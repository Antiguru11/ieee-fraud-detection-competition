{
 "cells": [
  {
   "cell_type": "markdown",
   "metadata": {},
   "source": [
    "## __Import packages__"
   ]
  },
  {
   "cell_type": "code",
   "execution_count": 1,
   "metadata": {},
   "outputs": [
    {
     "name": "stdout",
     "output_type": "stream",
     "text": [
      "Starting optimization DataFrames\n",
      "All DataFrames are already optimized!\n"
     ]
    }
   ],
   "source": [
    "from feng import DtFeatureTransformer, NumFeatureTransformer, StrFeatureTransformer\n",
    "from data import repository as rep\n",
    "\n",
    "rep.optimize()\n",
    "rep.use(['train', 'test'])\n",
    "rep.bootstrap(['train', 'test'])"
   ]
  },
  {
   "cell_type": "code",
   "execution_count": 2,
   "metadata": {},
   "outputs": [],
   "source": [
    "dtt = DtFeatureTransformer()\n",
    "numt = NumFeatureTransformer()\n",
    "strt = StrFeatureTransformer()"
   ]
  },
  {
   "cell_type": "markdown",
   "metadata": {},
   "source": [
    "## __Feature engineering__"
   ]
  },
  {
   "cell_type": "markdown",
   "metadata": {},
   "source": [
    "### __TransactionDT(or timedelta) to day of week and hour of day__"
   ]
  },
  {
   "cell_type": "code",
   "execution_count": 3,
   "metadata": {},
   "outputs": [],
   "source": [
    "dtt.do_weekday('TransactionDT', 'weekday')\n",
    "dtt.do_dayhour('TransactionDT', 'dayhour')"
   ]
  },
  {
   "cell_type": "markdown",
   "metadata": {},
   "source": [
    "### __TransactionAmt to log__"
   ]
  },
  {
   "cell_type": "code",
   "execution_count": 5,
   "metadata": {},
   "outputs": [],
   "source": [
    "numt.do_log('TransactionAmt', 'TransactionAmt_log')"
   ]
  },
  {
   "cell_type": "markdown",
   "metadata": {},
   "source": [
    "### __Device Info__"
   ]
  },
  {
   "cell_type": "code",
   "execution_count": 11,
   "metadata": {},
   "outputs": [
    {
     "name": "stdout",
     "output_type": "stream",
     "text": [
      "Replace Samsung\n",
      "Replace Motorola\n",
      "Replace LG\n",
      "Replace RV\n",
      "Replace Huawei\n",
      "Replace ZTE\n",
      "Replace Linux\n",
      "Replace Windows\n",
      "Replace Sony\n",
      "Replace HTC\n",
      "Replace ASUS\n"
     ]
    }
   ],
   "source": [
    "strt.do_split('DeviceInfo', 'device_name', sep='/', ind=0)\n",
    "strt.do_split('DeviceInfo', 'device_version', sep='/', ind=1)\n",
    "\n",
    "replaces = {\n",
    "    'Samsung': 'SAMSUNG|SM|GT-',\n",
    "    'Motorola': 'Moto G|Moto|moto',\n",
    "    'LG': 'LG-',\n",
    "    'RV': 'rv:',\n",
    "    'Huawei': 'HUAWEI|ALE-|-L',\n",
    "    'ZTE': 'BLADE|Blade',\n",
    "    'Linux': 'Linux',\n",
    "    'Windows': 'Windows',\n",
    "    'Sony': 'XT',\n",
    "    'HTC': 'HTC',\n",
    "    'ASUS': 'Asus',\n",
    "}\n",
    "\n",
    "for val, pat in replaces.items():\n",
    "    print(f'Replace {val}')\n",
    "    strt.do_replace('device_name',\n",
    "                    'device_name',\n",
    "                    pat=f'(\\S|\\s)*({pat})(\\S|\\s)*',\n",
    "                    val=val,\n",
    "                    reg=True)"
   ]
  },
  {
   "cell_type": "markdown",
   "metadata": {},
   "source": [
    "### __id_24, id_30, id_31, id_33, id_34__"
   ]
  },
  {
   "cell_type": "code",
   "execution_count": 28,
   "metadata": {},
   "outputs": [],
   "source": [
    "strt.do_split('id_30', 'OS_name', sep=' ', ind=0)\n",
    "#strt.do_split('id_30', 'OS_version', sep=' ', ind=1)\n",
    "\n",
    "#strt.do_split('id_31', 'browser_name', sep=' ', ind=0)\n",
    "#strt.do_split('id_31', 'browser_version', sep=' ', ind=1)\n",
    "\n",
    "strt.do_split('id_33', 'screen_width', sep='x', ind=0)\n",
    "strt.do_split('id_33', 'screen_height', sep='x', ind=1)\n",
    "\n",
    "strt.do_split('id_34', 'id_34', sep=':', ind=1)\n",
    "strt.do_split('id_23', 'id_23', sep=':', ind=1)"
   ]
  },
  {
   "cell_type": "markdown",
   "metadata": {},
   "source": [
    "### __TransactionAmt, id_02, D_15 by mean and std of card1, card4, addr1__"
   ]
  },
  {
   "cell_type": "code",
   "execution_count": 33,
   "metadata": {},
   "outputs": [
    {
     "name": "stdout",
     "output_type": "stream",
     "text": [
      "Start for TransactionAmt\n",
      "By mean card1\n",
      "By mean card4\n",
      "By mean addr1\n",
      "Start for id_02\n",
      "By mean card1\n",
      "By mean card4\n",
      "By mean addr1\n",
      "Start for D_15\n",
      "By mean card1\n",
      "By mean card4\n",
      "By mean addr1\n",
      "Done!\n"
     ]
    }
   ],
   "source": [
    "col_base = ['TransactionAmt', 'id_02', 'D_15']\n",
    "col_other = ['card1', 'card4', 'addr1']\n",
    "\n",
    "for base in col_base:\n",
    "    print(f'Start for {base}')\n",
    "    for other in col_other:\n",
    "        print(f'####by {other}')\n",
    "        numt.do_mean(base,\n",
    "                     f'{base}_by_mean_{other}',\n",
    "                     mean_name=other)\n",
    "        numt.do_std(base,\n",
    "                    f'{base}_by_std_{other}',\n",
    "                    std_name=other)\n",
    "print('Done!')"
   ]
  },
  {
   "cell_type": "code",
   "execution_count": null,
   "metadata": {},
   "outputs": [],
   "source": []
  }
 ],
 "metadata": {
  "kernelspec": {
   "display_name": "Python 3",
   "language": "python",
   "name": "python3"
  },
  "language_info": {
   "codemirror_mode": {
    "name": "ipython",
    "version": 3
   },
   "file_extension": ".py",
   "mimetype": "text/x-python",
   "name": "python",
   "nbconvert_exporter": "python",
   "pygments_lexer": "ipython3",
   "version": "3.7.4"
  },
  "toc": {
   "base_numbering": 1,
   "nav_menu": {},
   "number_sections": true,
   "sideBar": true,
   "skip_h1_title": false,
   "title_cell": "Table of Contents",
   "title_sidebar": "Contents",
   "toc_cell": false,
   "toc_position": {},
   "toc_section_display": true,
   "toc_window_display": false
  },
  "varInspector": {
   "cols": {
    "lenName": 16,
    "lenType": 16,
    "lenVar": 40
   },
   "kernels_config": {
    "python": {
     "delete_cmd_postfix": "",
     "delete_cmd_prefix": "del ",
     "library": "var_list.py",
     "varRefreshCmd": "print(var_dic_list())"
    },
    "r": {
     "delete_cmd_postfix": ") ",
     "delete_cmd_prefix": "rm(",
     "library": "var_list.r",
     "varRefreshCmd": "cat(var_dic_list()) "
    }
   },
   "position": {
    "height": "144.85px",
    "left": "435px",
    "right": "41px",
    "top": "118px",
    "width": "350px"
   },
   "types_to_exclude": [
    "module",
    "function",
    "builtin_function_or_method",
    "instance",
    "_Feature"
   ],
   "window_display": false
  }
 },
 "nbformat": 4,
 "nbformat_minor": 2
}
