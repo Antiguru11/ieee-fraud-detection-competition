{
 "cells": [
  {
   "cell_type": "markdown",
   "metadata": {},
   "source": [
    "## ___Import packages___"
   ]
  },
  {
   "cell_type": "code",
   "execution_count": 1,
   "metadata": {},
   "outputs": [
    {
     "name": "stdout",
     "output_type": "stream",
     "text": [
      "Getting the data\n",
      "########Getting test_identity\n",
      "########Load optimized data from ../temp/opt_test_identity.pickle file\n",
      "########Getting test_transaction\n",
      "########Load optimized data from ../temp/opt_test_transaction.pickle file\n",
      "########Getting train_identity\n",
      "########Load optimized data from ../temp/opt_train_identity.pickle file\n",
      "########Getting train_transaction\n",
      "########Load optimized data from ../temp/opt_train_transaction.pickle file\n",
      "Data is ready!\n",
      "Starting optimization DataFrames\n",
      "All DataFrames are already optimized!\n"
     ]
    }
   ],
   "source": [
    "import config\n",
    "import utils\n",
    "from data import collection\n",
    "collection.optimize(verbose=False)"
   ]
  },
  {
   "cell_type": "code",
   "execution_count": 2,
   "metadata": {},
   "outputs": [],
   "source": [
    "import numpy as np\n",
    "import pandas as pd\n",
    "\n",
    "%matplotlib inline\n",
    "import seaborn as sns\n",
    "import matplotlib.pyplot as plt"
   ]
  },
  {
   "cell_type": "markdown",
   "metadata": {},
   "source": [
    "## __Feature engineering__"
   ]
  },
  {
   "cell_type": "code",
   "execution_count": 3,
   "metadata": {
    "code_folding": []
   },
   "outputs": [
    {
     "data": {
      "text/plain": [
       "((590540, 434), (506691, 433))"
      ]
     },
     "execution_count": 3,
     "metadata": {},
     "output_type": "execute_result"
    }
   ],
   "source": [
    "train = collection.train_transaction.merge(collection.train_identity.data,\n",
    "                                           how='left',\n",
    "                                           on='TransactionID')\n",
    "test = collection.test_transaction.merge(collection.test_identity.data,\n",
    "                                         how='left',\n",
    "                                         on='TransactionID')\n",
    "train.shape, test.shape"
   ]
  },
  {
   "cell_type": "markdown",
   "metadata": {},
   "source": [
    "### ___TransactionDT(or timedelta) to day of week and hour of day___"
   ]
  },
  {
   "cell_type": "code",
   "execution_count": 4,
   "metadata": {},
   "outputs": [],
   "source": [
    "def timedelta_to_weekday(x):\n",
    "    return np.floor(x / (3600 * 24) - 1) % 7\n",
    "\n",
    "\n",
    "def timedelta_to_dayhour(x):\n",
    "    return np.floor(x / 3600) % 24\n",
    "\n",
    "\n",
    "train['weekday'] = train['TransactionDT'].map(timedelta_to_weekday)\n",
    "train['dayhour'] = train['TransactionDT'].map(timedelta_to_dayhour)\n",
    "\n",
    "test['weekday'] = test['TransactionDT'].map(timedelta_to_weekday)\n",
    "test['dayhour'] = test['TransactionDT'].map(timedelta_to_dayhour)"
   ]
  }
 ],
 "metadata": {
  "kernelspec": {
   "display_name": "Python 3",
   "language": "python",
   "name": "python3"
  },
  "language_info": {
   "codemirror_mode": {
    "name": "ipython",
    "version": 3
   },
   "file_extension": ".py",
   "mimetype": "text/x-python",
   "name": "python",
   "nbconvert_exporter": "python",
   "pygments_lexer": "ipython3",
   "version": "3.7.4"
  },
  "toc": {
   "base_numbering": 1,
   "nav_menu": {},
   "number_sections": true,
   "sideBar": true,
   "skip_h1_title": false,
   "title_cell": "Table of Contents",
   "title_sidebar": "Contents",
   "toc_cell": false,
   "toc_position": {},
   "toc_section_display": true,
   "toc_window_display": false
  },
  "varInspector": {
   "cols": {
    "lenName": 16,
    "lenType": 16,
    "lenVar": 40
   },
   "kernels_config": {
    "python": {
     "delete_cmd_postfix": "",
     "delete_cmd_prefix": "del ",
     "library": "var_list.py",
     "varRefreshCmd": "print(var_dic_list())"
    },
    "r": {
     "delete_cmd_postfix": ") ",
     "delete_cmd_prefix": "rm(",
     "library": "var_list.r",
     "varRefreshCmd": "cat(var_dic_list()) "
    }
   },
   "types_to_exclude": [
    "module",
    "function",
    "builtin_function_or_method",
    "instance",
    "_Feature"
   ],
   "window_display": false
  }
 },
 "nbformat": 4,
 "nbformat_minor": 2
}
